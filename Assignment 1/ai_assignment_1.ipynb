{
  "nbformat": 4,
  "nbformat_minor": 0,
  "metadata": {
    "colab": {
      "provenance": []
    },
    "kernelspec": {
      "name": "python3",
      "display_name": "Python 3"
    },
    "language_info": {
      "name": "python"
    }
  },
  "cells": [
    {
      "cell_type": "code",
      "execution_count": 1,
      "metadata": {
        "colab": {
          "base_uri": "https://localhost:8080/"
        },
        "id": "zJfD9gUgvyNT",
        "outputId": "aeb21641-2ad9-4872-ebf1-ceca144471f4"
      },
      "outputs": [
        {
          "output_type": "stream",
          "name": "stdout",
          "text": [
            "BFS Path: ['Arad', 'Sibiu', 'Fagaras', 'Bucharest']\n",
            "UCS Path and Cost: (['Arad', 'Sibiu', 'Rimnicu Vilcea', 'Pitesti', 'Bucharest'], 418)\n",
            "Greedy Best-First Search Path: ['Arad', 'Sibiu', 'Fagaras', 'Bucharest']\n",
            "IDDFS Path: ['Arad', 'Sibiu', 'Fagaras', 'Bucharest']\n"
          ]
        }
      ],
      "source": [
        "import heapq\n",
        "\n",
        "romania_map = {# Graph of Romania map\n",
        "    'Arad': [('Zerind', 75), ('Sibiu', 140), ('Timisoara', 118)],\n",
        "    'Zerind': [('Arad', 75), ('Oradea', 71)],\n",
        "    'Oradea': [('Zerind', 71), ('Sibiu', 151)],\n",
        "    'Sibiu': [('Arad', 140), ('Oradea', 151), ('Fagaras', 99), ('Rimnicu Vilcea', 80)],\n",
        "    'Timisoara': [('Arad', 118), ('Lugoj', 111)],\n",
        "    'Lugoj': [('Timisoara', 111), ('Mehadia', 70)],\n",
        "    'Mehadia': [('Lugoj', 70), ('Drobeta', 75)],\n",
        "    'Drobeta': [('Mehadia', 75), ('Craiova', 120)],\n",
        "    'Craiova': [('Drobeta', 120), ('Rimnicu Vilcea', 146), ('Pitesti', 138)],\n",
        "    'Rimnicu Vilcea': [('Sibiu', 80), ('Craiova', 146), ('Pitesti', 97)],\n",
        "    'Fagaras': [('Sibiu', 99), ('Bucharest', 211)],\n",
        "    'Pitesti': [('Rimnicu Vilcea', 97), ('Craiova', 138), ('Bucharest', 101)],\n",
        "    'Bucharest': [('Fagaras', 211), ('Pitesti', 101), ('Giurgiu', 90), ('Urziceni', 85)],\n",
        "    'Giurgiu': [('Bucharest', 90)],\n",
        "    'Urziceni': [('Bucharest', 85), ('Hirsova', 98), ('Vaslui', 142)],\n",
        "    'Hirsova': [('Urziceni', 98), ('Eforie', 86)],\n",
        "    'Eforie': [('Hirsova', 86)],\n",
        "    'Vaslui': [('Urziceni', 142), ('Iasi', 92)],\n",
        "    'Iasi': [('Vaslui', 92), ('Neamt', 87)],\n",
        "    'Neamt': [('Iasi', 87)]\n",
        "}\n",
        "\n",
        "# breadth first search\n",
        "def bfs(start, goal):\n",
        "    queue = [(start, [start])]  #initialize queue with starting node and path\n",
        "    while queue:\n",
        "        (node, path) = queue.pop(0)  # dequeue first element\n",
        "        for (neighbor, _) in romania_map.get(node, []):  # explore neighbors\n",
        "            if neighbor not in path:  #cycles to be avoided\n",
        "                if neighbor == goal:\n",
        "                    return path + [neighbor]  # return path if goal\n",
        "                queue.append((neighbor, path + [neighbor]))\n",
        "    return None  # return None if no path\n",
        "\n",
        "# uniform cost search\n",
        "def ucs(start, goal):\n",
        "    queue = [(0, start, [start])]  # priority queue with (cost, node, path)\n",
        "    heapq.heapify(queue)\n",
        "    while queue:\n",
        "        (cost, node, path) = heapq.heappop(queue)  #node with lowest cost\n",
        "        if node == goal:\n",
        "            return path, cost  # return path and cost if goal\n",
        "        for (neighbor, edge_cost) in romania_map.get(node, []):  # explore neighbors\n",
        "            if neighbor not in path:\n",
        "                heapq.heappush(queue, (cost + edge_cost, neighbor, path + [neighbor]))\n",
        "    return None  # return None if no path\n",
        "\n",
        "# greedy best first search\n",
        "def greedy_best_first(start, goal, heuristics):\n",
        "    queue = [(heuristics[start], start, [start])]  # priority queue with heuristic\n",
        "    heapq.heapify(queue)\n",
        "    while queue:\n",
        "        (_, node, path) = heapq.heappop(queue)  #node with lowest heuristic\n",
        "        if node == goal:\n",
        "            return path  # return path if goal\n",
        "        for (neighbor, _) in romania_map.get(node, []):  # explore neighbors\n",
        "            if neighbor not in path:\n",
        "                heapq.heappush(queue, (heuristics[neighbor], neighbor, path + [neighbor]))\n",
        "    return None  # return None if no path\n",
        "\n",
        "# iterative deepening depth first search\n",
        "def iddfs(start, goal, depth_limit):\n",
        "    def dls(node, path, depth):\n",
        "        if depth == 0 and node == goal:\n",
        "            return path  # return path if goal at max depth\n",
        "        if depth > 0:\n",
        "            for (neighbor, _) in romania_map.get(node, []):  # explore neighbors\n",
        "                if neighbor not in path:\n",
        "                    new_path = dls(neighbor, path + [neighbor], depth - 1)\n",
        "                    if new_path:\n",
        "                        return new_path  # valid path\n",
        "        return None  # return None if no path is\n",
        "\n",
        "    for depth in range(depth_limit):  # increasing depths with iteration\n",
        "        result = dls(start, [start], depth)\n",
        "        if result:\n",
        "            return result  # valid path if found\n",
        "    return None  # return None if no path\n",
        "\n",
        "heuristics = {\n",
        "    'Arad': 366, 'Bucharest': 0, 'Craiova': 160, 'Drobeta': 242, 'Eforie': 161,\n",
        "    'Fagaras': 176, 'Giurgiu': 77, 'Hirsova': 151, 'Iasi': 226, 'Lugoj': 244,\n",
        "    'Mehadia': 241, 'Neamt': 234, 'Oradea': 380, 'Pitesti': 100, 'Rimnicu Vilcea': 193,\n",
        "    'Sibiu': 253, 'Timisoara': 329, 'Urziceni': 80, 'Vaslui': 199, 'Zerind': 374\n",
        "}\n",
        "\n",
        "start_city = 'Arad'\n",
        "destination_city = 'Bucharest'\n",
        "\n",
        "print(\"BFS Path:\", bfs(start_city, destination_city))\n",
        "print(\"UCS Path and Cost:\", ucs(start_city, destination_city))\n",
        "print(\"Greedy Best-First Search Path:\", greedy_best_first(start_city, destination_city, heuristics))\n",
        "print(\"IDDFS Path:\", iddfs(start_city, destination_city, 10))"
      ]
    }
  ]
}