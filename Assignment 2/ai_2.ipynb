{
  "nbformat": 4,
  "nbformat_minor": 0,
  "metadata": {
    "colab": {
      "provenance": []
    },
    "kernelspec": {
      "name": "python3",
      "display_name": "Python 3"
    },
    "language_info": {
      "name": "python"
    }
  },
  "cells": [
    {
      "cell_type": "markdown",
      "source": [
        "# ASSIGNMENT 2\n",
        "#ARTIFICIAL INTELLIGENCE\n",
        "**ARSH AL AMAN**\n",
        "**23K-0078**"
      ],
      "metadata": {
        "id": "PvnC2gTVYcnA"
      }
    },
    {
      "cell_type": "code",
      "source": [
        "#@title QUESTION 1\n",
        "\n",
        "def query(x):\n",
        "    return -1 * (x - 7)**2 + 49\n",
        "\n",
        "def find_peak(N):\n",
        "    x = 0\n",
        "    while x < N:\n",
        "        if query(x + 1) > query(x):\n",
        "            x += 1\n",
        "        else:\n",
        "            break\n",
        "    return x\n",
        "\n",
        "N = 15\n",
        "print(\"Peak found at index:\", find_peak(N))"
      ],
      "metadata": {
        "colab": {
          "base_uri": "https://localhost:8080/"
        },
        "id": "wcYJBQ7kY_Ju",
        "outputId": "6db52d74-444c-4cf4-ca57-e80af2b36c36"
      },
      "execution_count": 1,
      "outputs": [
        {
          "output_type": "stream",
          "name": "stdout",
          "text": [
            "Peak found at index: 7\n"
          ]
        }
      ]
    },
    {
      "cell_type": "code",
      "source": [
        "#@title QUESTION 2\n",
        "import random\n",
        "\n",
        "tasks = [5, 8, 4, 7, 6, 3, 9]\n",
        "capacities = [24, 30, 28]  # Facility 0, 1, 2\n",
        "\n",
        "cost_matrix = [\n",
        "    [10, 12, 9],\n",
        "    [15, 14, 16],\n",
        "    [8, 9, 7],\n",
        "    [12, 10, 13],\n",
        "    [14, 13, 12],\n",
        "    [9, 8, 10],\n",
        "    [11, 12, 13]\n",
        "]\n",
        "\n",
        "POP_SIZE = 6\n",
        "GENERATIONS = 10\n",
        "CROSSOVER_RATE = 0.8\n",
        "MUTATION_RATE = 0.2\n",
        "\n",
        "def generate_individual():\n",
        "    return [random.randint(0, 2) for _ in range(len(tasks))]\n",
        "\n",
        "def generate_population():\n",
        "    return [generate_individual() for _ in range(POP_SIZE)]\n",
        "\n",
        "def fitness(individual):\n",
        "    total_time = [0, 0, 0]\n",
        "    total_cost = 0\n",
        "\n",
        "    for i, facility in enumerate(individual):\n",
        "        total_time[facility] += tasks[i]\n",
        "        total_cost += cost_matrix[i][facility]\n",
        "\n",
        "    penalty = 0\n",
        "    for i in range(3):\n",
        "        if total_time[i] > capacities[i]:\n",
        "            penalty += 100 * (total_time[i] - capacities[i])\n",
        "\n",
        "    return -(total_cost + penalty)  #want minimize cost\n",
        "\n",
        "def roulette_selection(population, fitnesses):\n",
        "    total_fitness = sum(fitnesses)\n",
        "    pick = random.uniform(0, total_fitness)\n",
        "    current = 0\n",
        "    for ind, fit in zip(population, fitnesses):\n",
        "        current += fit\n",
        "        if current > pick:\n",
        "            return ind\n",
        "    return population[-1]\n",
        "\n",
        "def crossover(parent1, parent2):\n",
        "    if random.random() > CROSSOVER_RATE:\n",
        "        return parent1[:], parent2[:]\n",
        "    point = random.randint(1, len(parent1)-2)\n",
        "    return parent1[:point] + parent2[point:], parent2[:point] + parent1[point:]\n",
        "\n",
        "def mutate(individual):\n",
        "    if random.random() < MUTATION_RATE:\n",
        "        i, j = random.sample(range(len(individual)), 2)\n",
        "        individual[i], individual[j] = individual[j], individual[i]\n",
        "    return individual\n",
        "\n",
        "population = generate_population()\n",
        "for gen in range(GENERATIONS):\n",
        "    fitnesses = [fitness(ind) for ind in population]\n",
        "    print(f\"Generation {gen+1} Best fitness: {max(fitnesses)}\")\n",
        "\n",
        "    new_population = []\n",
        "    for _ in range(POP_SIZE // 2):\n",
        "        parent1 = roulette_selection(population, fitnesses)\n",
        "        parent2 = roulette_selection(population, fitnesses)\n",
        "        child1, child2 = crossover(parent1, parent2)\n",
        "        new_population.extend([mutate(child1), mutate(child2)])\n",
        "\n",
        "    population = new_population\n",
        "\n",
        "fitnesses = [fitness(ind) for ind in population]\n",
        "best = population[fitnesses.index(max(fitnesses))]\n",
        "print(\"\\nBest assignment:\", best)\n",
        "print(\"Total Cost + Penalty:\", -max(fitnesses))\n"
      ],
      "metadata": {
        "colab": {
          "base_uri": "https://localhost:8080/"
        },
        "id": "LK_efJWLZjH5",
        "outputId": "8d2a4bf9-4a43-47ab-da6a-aad2447c11a6"
      },
      "execution_count": 2,
      "outputs": [
        {
          "output_type": "stream",
          "name": "stdout",
          "text": [
            "Generation 1 Best fitness: -75\n",
            "Generation 2 Best fitness: -180\n",
            "Generation 3 Best fitness: -180\n",
            "Generation 4 Best fitness: -180\n",
            "Generation 5 Best fitness: -180\n",
            "Generation 6 Best fitness: -78\n",
            "Generation 7 Best fitness: -78\n",
            "Generation 8 Best fitness: -78\n",
            "Generation 9 Best fitness: -78\n",
            "Generation 10 Best fitness: -78\n",
            "\n",
            "Best assignment: [0, 1, 0, 1, 0, 0, 2]\n",
            "Total Cost + Penalty: 78\n"
          ]
        }
      ]
    },
    {
      "cell_type": "markdown",
      "source": [
        "**QUESTION 3**"
      ],
      "metadata": {
        "id": "-IvMMM3GbfHk"
      }
    },
    {
      "cell_type": "code",
      "source": [
        "#@title My version suduko\n",
        "\n",
        "def get_peers(r, c):\n",
        "    peers = set()\n",
        "    for i in range(9):\n",
        "        peers.add((r, i))\n",
        "        peers.add((i, c))\n",
        "    start_r, start_c = 3 * (r // 3), 3 * (c // 3)\n",
        "    for i in range(3):\n",
        "        for j in range(3):\n",
        "            peers.add((start_r + i, start_c + j))\n",
        "    peers.remove((r, c))\n",
        "    return peers\n",
        "\n",
        "def ac3(domains):\n",
        "    queue = [(r, c) for r in range(9) for c in range(9)]\n",
        "    while queue:\n",
        "        r, c = queue.pop(0)\n",
        "        for r2, c2 in get_peers(r, c):\n",
        "            if len(domains[r2][c2]) == 1:\n",
        "                if domains[r2][c2][0] in domains[r][c] and len(domains[r][c]) > 1:\n",
        "                    domains[r][c].remove(domains[r2][c2][0])\n",
        "                    queue.append((r, c))\n",
        "                    if not domains[r][c]:\n",
        "                        return False\n",
        "    return True\n",
        "\n",
        "def backtrack(domains):\n",
        "    min_choices = 10\n",
        "    row = col = -1\n",
        "    for r in range(9):\n",
        "        for c in range(9):\n",
        "            if 1 < len(domains[r][c]) < min_choices:\n",
        "                min_choices = len(domains[r][c])\n",
        "                row, col = r, c\n",
        "    if row == -1:  #Cells solved\n",
        "        return domains\n",
        "\n",
        "    for val in domains[row][col]:\n",
        "        new_domains = [ [list(domains[r][c]) for c in range(9)] for r in range(9) ]\n",
        "        new_domains[row][col] = [val]\n",
        "        if ac3(new_domains):\n",
        "            result = backtrack(new_domains)\n",
        "            if result:\n",
        "                return result\n",
        "    return False\n",
        "\n",
        "def solve_my_sudoku(grid_str):\n",
        "    domains = [[[] for _ in range(9)] for _ in range(9)]\n",
        "    for i in range(81):\n",
        "        r, c = divmod(i, 9)\n",
        "        ch = grid_str[i]\n",
        "        if ch in '123456789':\n",
        "            domains[r][c] = [ch]\n",
        "        else:\n",
        "            domains[r][c] = list('123456789')\n",
        "\n",
        "    if not ac3(domains):\n",
        "        return None\n",
        "\n",
        "    result = backtrack(domains)\n",
        "    if not result:\n",
        "        return None\n",
        "\n",
        "    return ''.join(result[r][c][0] for r in range(9) for c in range(9))\n",
        "\n",
        "puzzle = '53..7....6..195....98....6.8...6...34..8.3..17...2...6.6....28....419..5....8..79'\n",
        "solution = solve_my_sudoku(puzzle)\n",
        "print(\"Solved Sudoku:\")\n",
        "for i in range(0, 81, 9):\n",
        "  print(solution[i:i+9])"
      ],
      "metadata": {
        "colab": {
          "base_uri": "https://localhost:8080/"
        },
        "id": "-GF8YS-ubvT0",
        "outputId": "1d2dae62-e574-4bb4-99da-546555e3a306"
      },
      "execution_count": 10,
      "outputs": [
        {
          "output_type": "stream",
          "name": "stdout",
          "text": [
            "Solved Sudoku:\n",
            "534278912\n",
            "672195348\n",
            "198342567\n",
            "815764423\n",
            "426853791\n",
            "753921856\n",
            "961537284\n",
            "287419635\n",
            "345286179\n"
          ]
        }
      ]
    },
    {
      "cell_type": "code",
      "source": [
        "pip install ortools"
      ],
      "metadata": {
        "colab": {
          "base_uri": "https://localhost:8080/"
        },
        "id": "Hgi4bdOgccvp",
        "outputId": "8bfaf061-2064-4066-e7f4-891d0b2e7829"
      },
      "execution_count": 4,
      "outputs": [
        {
          "output_type": "stream",
          "name": "stdout",
          "text": [
            "Collecting ortools\n",
            "  Downloading ortools-9.12.4544-cp311-cp311-manylinux_2_27_x86_64.manylinux_2_28_x86_64.whl.metadata (3.3 kB)\n",
            "Collecting absl-py>=2.0.0 (from ortools)\n",
            "  Downloading absl_py-2.2.2-py3-none-any.whl.metadata (2.6 kB)\n",
            "Requirement already satisfied: numpy>=1.13.3 in /usr/local/lib/python3.11/dist-packages (from ortools) (2.0.2)\n",
            "Requirement already satisfied: pandas>=2.0.0 in /usr/local/lib/python3.11/dist-packages (from ortools) (2.2.2)\n",
            "Requirement already satisfied: protobuf<5.30,>=5.29.3 in /usr/local/lib/python3.11/dist-packages (from ortools) (5.29.4)\n",
            "Requirement already satisfied: immutabledict>=3.0.0 in /usr/local/lib/python3.11/dist-packages (from ortools) (4.2.1)\n",
            "Requirement already satisfied: python-dateutil>=2.8.2 in /usr/local/lib/python3.11/dist-packages (from pandas>=2.0.0->ortools) (2.8.2)\n",
            "Requirement already satisfied: pytz>=2020.1 in /usr/local/lib/python3.11/dist-packages (from pandas>=2.0.0->ortools) (2025.2)\n",
            "Requirement already satisfied: tzdata>=2022.7 in /usr/local/lib/python3.11/dist-packages (from pandas>=2.0.0->ortools) (2025.2)\n",
            "Requirement already satisfied: six>=1.5 in /usr/local/lib/python3.11/dist-packages (from python-dateutil>=2.8.2->pandas>=2.0.0->ortools) (1.17.0)\n",
            "Downloading ortools-9.12.4544-cp311-cp311-manylinux_2_27_x86_64.manylinux_2_28_x86_64.whl (24.9 MB)\n",
            "\u001b[2K   \u001b[90m━━━━━━━━━━━━━━━━━━━━━━━━━━━━━━━━━━━━━━━━\u001b[0m \u001b[32m24.9/24.9 MB\u001b[0m \u001b[31m42.1 MB/s\u001b[0m eta \u001b[36m0:00:00\u001b[0m\n",
            "\u001b[?25hDownloading absl_py-2.2.2-py3-none-any.whl (135 kB)\n",
            "\u001b[2K   \u001b[90m━━━━━━━━━━━━━━━━━━━━━━━━━━━━━━━━━━━━━━━━\u001b[0m \u001b[32m135.6/135.6 kB\u001b[0m \u001b[31m8.5 MB/s\u001b[0m eta \u001b[36m0:00:00\u001b[0m\n",
            "\u001b[?25hInstalling collected packages: absl-py, ortools\n",
            "  Attempting uninstall: absl-py\n",
            "    Found existing installation: absl-py 1.4.0\n",
            "    Uninstalling absl-py-1.4.0:\n",
            "      Successfully uninstalled absl-py-1.4.0\n",
            "Successfully installed absl-py-2.2.2 ortools-9.12.4544\n"
          ]
        }
      ]
    },
    {
      "cell_type": "code",
      "source": [
        "#@title Google OR-Tools Solver (Constraint Programming)\n",
        "\n",
        "\n",
        "from ortools.sat.python import cp_model\n",
        "\n",
        "def solve_sudoku_or_tools(puzzle):\n",
        "    model = cp_model.CpModel()\n",
        "    grid = [[model.NewIntVar(1, 9, f'cell_{r}_{c}') for c in range(9)] for r in range(9)]\n",
        "\n",
        "    for r in range(9):\n",
        "        model.AddAllDifferent(grid[r])\n",
        "    for c in range(9):\n",
        "        model.AddAllDifferent([grid[r][c] for r in range(9)])\n",
        "    for br in range(0, 9, 3):\n",
        "        for bc in range(0, 9, 3):\n",
        "            block = [grid[r][c] for r in range(br, br+3) for c in range(bc, bc+3)]\n",
        "            model.AddAllDifferent(block)\n",
        "\n",
        "    for i, char in enumerate(puzzle):\n",
        "        if char in '123456789':\n",
        "            r, c = divmod(i, 9)\n",
        "            model.Add(grid[r][c] == int(char))\n",
        "\n",
        "    solver = cp_model.CpSolver()\n",
        "    status = solver.Solve(model)\n",
        "\n",
        "    if status in (cp_model.FEASIBLE, cp_model.OPTIMAL):\n",
        "        return ''.join(str(solver.Value(grid[r][c])) for r in range(9) for c in range(9))\n",
        "    return None\n",
        "\n",
        "\n",
        "puzzle = '53..7....6..195....98....6.8...6...34..8.3..17...2...6.6....28....419..5....8..79'\n",
        "solution = solve_sudoku_or_tools(puzzle)\n",
        "print(\"Solved Sudoku (OR-Tools):\")\n",
        "for i in range(0, 81, 9):\n",
        "    print(solution[i:i+9])\n"
      ],
      "metadata": {
        "colab": {
          "base_uri": "https://localhost:8080/"
        },
        "id": "cFM07oAFcOsm",
        "outputId": "520db46e-dd37-4c54-bf5d-7e273f3cba2c"
      },
      "execution_count": 5,
      "outputs": [
        {
          "output_type": "stream",
          "name": "stdout",
          "text": [
            "Solved Sudoku (OR-Tools):\n",
            "534678912\n",
            "672195348\n",
            "198342567\n",
            "859761423\n",
            "426853791\n",
            "713924856\n",
            "961537284\n",
            "287419635\n",
            "345286179\n"
          ]
        }
      ]
    },
    {
      "cell_type": "code",
      "source": [
        "#@title GPT-GITHUB CODE\n",
        "\n",
        "def is_valid(board, row, col, num):\n",
        "    for i in range(9):\n",
        "        if board[row][i] == num or board[i][col] == num:\n",
        "            return False\n",
        "    start_row, start_col = 3*(row//3), 3*(col//3)\n",
        "    for i in range(3):\n",
        "        for j in range(3):\n",
        "            if board[start_row+i][start_col+j] == num:\n",
        "                return False\n",
        "    return True\n",
        "\n",
        "def gpt_version(board):\n",
        "    for row in range(9):\n",
        "        for col in range(9):\n",
        "            if board[row][col] == 0:\n",
        "                for num in range(1, 10):\n",
        "                    if is_valid(board, row, col, num):\n",
        "                        board[row][col] = num\n",
        "                        if gpt_version(board):\n",
        "                            return True\n",
        "                        board[row][col] = 0\n",
        "                return False\n",
        "    return True\n",
        "\n",
        "def parse_board(puzzle):\n",
        "    return [[int(puzzle[r*9 + c]) if puzzle[r*9 + c] != '.' else 0 for c in range(9)] for r in range(9)]\n",
        "\n",
        "def string_board(board):\n",
        "    return ''.join(str(cell) for row in board for cell in row)\n",
        "\n",
        "puzzle = '53..7....6..195....98....6.8...6...34..8.3..17...2...6.6....28....419..5....8..79'\n",
        "board = parse_board(puzzle)\n",
        "gpt_version(board)\n",
        "solution = string_board(board)\n",
        "print(\"Solved (GPT Version):\")\n",
        "for i in range(0, 81, 9):\n",
        "  print(solution[i:i+9])"
      ],
      "metadata": {
        "colab": {
          "base_uri": "https://localhost:8080/"
        },
        "id": "WHyU9sijcp-_",
        "outputId": "95bccf9e-9793-4955-d39d-04d231838fec"
      },
      "execution_count": 1,
      "outputs": [
        {
          "output_type": "stream",
          "name": "stdout",
          "text": [
            "Solved (GPT Version):\n",
            "534678912\n",
            "672195348\n",
            "198342567\n",
            "859761423\n",
            "426853791\n",
            "713924856\n",
            "961537284\n",
            "287419635\n",
            "345286179\n"
          ]
        }
      ]
    }
  ]
}