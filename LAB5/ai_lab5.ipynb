{
  "nbformat": 4,
  "nbformat_minor": 0,
  "metadata": {
    "colab": {
      "provenance": []
    },
    "kernelspec": {
      "name": "python3",
      "display_name": "Python 3"
    },
    "language_info": {
      "name": "python"
    }
  },
  "cells": [
    {
      "cell_type": "code",
      "source": [
        "#@title TASK 1\n",
        "\n",
        "import chess\n",
        "import random\n",
        "\n",
        "PIECE_VALUES = {\n",
        "    chess.PAWN: 1, chess.KNIGHT: 3, chess.BISHOP: 3,\n",
        "    chess.ROOK: 5, chess.QUEEN: 9, chess.KING: 1000\n",
        "}\n",
        "\n",
        "def evaluate_board(board):\n",
        "    score = 0\n",
        "    for piece_type in PIECE_VALUES:\n",
        "        score += len(board.pieces(piece_type, chess.WHITE)) * PIECE_VALUES[piece_type]\n",
        "        score -= len(board.pieces(piece_type, chess.BLACK)) * PIECE_VALUES[piece_type]\n",
        "    return score\n",
        "\n",
        "def beam_search_best_move(board, beam_width, depth_limit):\n",
        "    best_sequence = []\n",
        "    current_depth = 0\n",
        "\n",
        "    while current_depth < depth_limit:\n",
        "        legal_moves = list(board.legal_moves)\n",
        "        if not legal_moves:\n",
        "            break\n",
        "\n",
        "        move_scores = []\n",
        "        for move in legal_moves:\n",
        "            board.push(move)\n",
        "            move_scores.append((move, evaluate_board(board)))\n",
        "            board.pop()\n",
        "\n",
        "        #beam_width top moves selection\n",
        "        move_scores.sort(key=lambda x: x[1], reverse=True)\n",
        "        best_moves = move_scores[:beam_width]\n",
        "\n",
        "        # Pick the best move from selected ones\n",
        "        best_move, best_score = random.choice(best_moves)\n",
        "        best_sequence.append((best_move, best_score))\n",
        "        board.push(best_move)\n",
        "\n",
        "        current_depth += 1\n",
        "\n",
        "    return best_sequence\n",
        "\n",
        "board = chess.Board()\n",
        "best_move_sequence = beam_search_best_move(board, beam_width=3, depth_limit=3)\n",
        "print(\"Best move sequence:\", [(str(move), score) for move, score in best_move_sequence])\n"
      ],
      "metadata": {
        "colab": {
          "base_uri": "https://localhost:8080/"
        },
        "id": "UI1JAgHGbwOP",
        "outputId": "26bf4551-fb48-42f2-d8fa-1440cfb6a403"
      },
      "execution_count": null,
      "outputs": [
        {
          "output_type": "stream",
          "name": "stdout",
          "text": [
            "Best move sequence: [('g1h3', 0), ('g8f6', 0), ('h3g1', 0)]\n"
          ]
        }
      ]
    },
    {
      "cell_type": "code",
      "source": [
        "#@title TASK 2\n",
        "\n",
        "def distance(p1, p2):\n",
        "    return np.linalg.norm(np.array(p1) - np.array(p2))\n",
        "\n",
        "def total_route_distance(route):\n",
        "    return sum(distance(route[i], route[i + 1]) for i in range(len(route) - 1))\n",
        "\n",
        "def hill_climb_shortest_route(delivery_points, iterations=1000):\n",
        "    current_route = delivery_points[:]\n",
        "    random.shuffle(current_route)\n",
        "    best_distance = total_route_distance(current_route)\n",
        "\n",
        "    for _ in range(iterations):\n",
        "        i, j = sorted(random.sample(range(len(current_route)), 2))\n",
        "        new_route = current_route[:]\n",
        "        new_route[i:j] = reversed(new_route[i:j])\n",
        "        new_distance = total_route_distance(new_route)\n",
        "\n",
        "        if new_distance < best_distance:\n",
        "            current_route, best_distance = new_route, new_distance\n",
        "\n",
        "    return current_route, best_distance\n",
        "\n",
        "delivery_points = [(0,0), (2,3), (5,1), (6,4), (8,0)]\n",
        "optimized_route, distance_covered = hill_climb_shortest_route(delivery_points)\n",
        "print(\"Optimized Route:\", optimized_route)\n",
        "print(\"Total Distance Covered:\", distance_covered)"
      ],
      "metadata": {
        "colab": {
          "base_uri": "https://localhost:8080/"
        },
        "id": "TYEGoiPjahMM",
        "outputId": "ba8470b2-77b2-44c9-a173-a9d4a3fa5732"
      },
      "execution_count": null,
      "outputs": [
        {
          "output_type": "stream",
          "name": "stdout",
          "text": [
            "Optimized Route: [(6, 4), (8, 0), (5, 1), (2, 3), (0, 0)]\n",
            "Total Distance Covered: 14.845516166095939\n"
          ]
        }
      ]
    },
    {
      "cell_type": "code",
      "source": [
        "#@title TASK 3\n",
        "\n",
        "import random\n",
        "import numpy as np\n",
        "\n",
        "num_cities = 10\n",
        "\n",
        "distance_matrix = np.random.randint(10, 100, size=(num_cities, num_cities))\n",
        "np.fill_diagonal(distance_matrix, 0)  # Distance to itself is 0\n",
        "\n",
        "population_size = 100\n",
        "generations = 500\n",
        "mutation_rate = 0.1\n",
        "\n",
        "\n",
        "def fitness(route):\n",
        "    return sum(distance_matrix[route[i], route[i + 1]] for i in range(len(route) - 1)) + distance_matrix[\n",
        "        route[-1], route[0]]\n",
        "\n",
        "def create_route():\n",
        "    route = list(range(num_cities))\n",
        "    random.shuffle(route)\n",
        "    return route\n",
        "\n",
        "def initial_population():\n",
        "    return [create_route() for _ in range(population_size)]\n",
        "\n",
        "def selection(population):\n",
        "    tournament = random.sample(population, k=5)\n",
        "    return sorted(tournament, key=fitness)[:2]\n",
        "\n",
        "def crossover(parent1, parent2):\n",
        "    start, end = sorted(random.sample(range(num_cities), 2))\n",
        "    child_p1 = parent1[start:end]\n",
        "    child_p2 = [city for city in parent2 if city not in child_p1]\n",
        "    return child_p1 + child_p2\n",
        "\n",
        "def mutate(route):\n",
        "    if random.random() < mutation_rate:\n",
        "        i, j = random.sample(range(num_cities), 2)\n",
        "        route[i], route[j] = route[j], route[i]\n",
        "    return route\n",
        "\n",
        "def genetic_algorithm():\n",
        "    population = initial_population()\n",
        "\n",
        "    for _ in range(generations):\n",
        "        new_population = []\n",
        "        for _ in range(population_size // 2):\n",
        "            parent1, parent2 = selection(population)\n",
        "            child1 = mutate(crossover(parent1, parent2))\n",
        "            child2 = mutate(crossover(parent2, parent1))\n",
        "            new_population.extend([child1, child2])\n",
        "        population = sorted(new_population, key=fitness)[:population_size]\n",
        "\n",
        "    best_route = min(population, key=fitness)\n",
        "    return best_route, fitness(best_route)\n",
        "\n",
        "best_route, best_distance = genetic_algorithm()\n",
        "print(\"Best Route:\", best_route)\n",
        "print(\"Best Distance:\", best_distance)"
      ],
      "metadata": {
        "colab": {
          "base_uri": "https://localhost:8080/"
        },
        "id": "YnlJe0VKai9p",
        "outputId": "5311d974-fe39-40c0-abe5-b672b82445b9"
      },
      "execution_count": null,
      "outputs": [
        {
          "output_type": "stream",
          "name": "stdout",
          "text": [
            "Best Route: [1, 9, 3, 4, 6, 8, 5, 2, 0, 7]\n",
            "Best Distance: 256\n"
          ]
        }
      ]
    }
  ]
}