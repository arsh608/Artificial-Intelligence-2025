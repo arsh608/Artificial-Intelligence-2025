{
  "nbformat": 4,
  "nbformat_minor": 0,
  "metadata": {
    "colab": {
      "provenance": []
    },
    "kernelspec": {
      "name": "python3",
      "display_name": "Python 3"
    },
    "language_info": {
      "name": "python"
    }
  },
  "cells": [
    {
      "cell_type": "code",
      "execution_count": 2,
      "metadata": {
        "colab": {
          "base_uri": "https://localhost:8080/"
        },
        "id": "XyGvllW0MK1Z",
        "outputId": "1b92febd-dc9d-4d6d-bf89-c7119b5cd7ca"
      },
      "outputs": [
        {
          "output_type": "stream",
          "name": "stdout",
          "text": [
            "[(0, 0), (1, 0), (2, 0), (2, 1), (2, 2), (3, 2), (4, 2), (4, 3), (4, 4)]\n"
          ]
        }
      ],
      "source": [
        "import heapq\n",
        "\n",
        "def best_first_search(maze, start, goals):\n",
        "    def heuristic(a, b):\n",
        "        return abs(a[0] - b[0]) + abs(a[1] - b[1])\n",
        "\n",
        "    visited = set()\n",
        "    queue = [(0, start, [])]  # (priority, curr_pos, path)\n",
        "    remaining_goals = set(goals)\n",
        "    rows, cols = len(maze), len(maze[0]) # Get the dimensions of the maze\n",
        "\n",
        "\n",
        "    while queue:\n",
        "        _, current, path = heapq.heappop(queue)\n",
        "        if current in visited:\n",
        "            continue\n",
        "        visited.add(current)\n",
        "        path = path + [current]\n",
        "\n",
        "        if current in remaining_goals:\n",
        "            remaining_goals.remove(current)\n",
        "            if not remaining_goals:  #all goals are visited\n",
        "                return path\n",
        "\n",
        "        for dx, dy in [(-1, 0), (1, 0), (0, -1), (0, 1)]:\n",
        "            neighbor = (current[0] + dx, current[1] + dy)\n",
        "            # Check if the neighbor is within the maze boundaries:\n",
        "            if 0 <= neighbor[0] < rows and 0 <= neighbor[1] < cols and \\\n",
        "               neighbor not in visited and maze[neighbor[0]][neighbor[1]] == 0:\n",
        "                    priority = min(heuristic(neighbor, g) for g in remaining_goals)\n",
        "                    heapq.heappush(queue, (priority, neighbor, path))\n",
        "\n",
        "    return None  #no valid path\n",
        "\n",
        "#(0 = free space, 1 = wall)\n",
        "maze = [\n",
        "    [0, 1, 0, 0, 0],\n",
        "    [0, 1, 0, 1, 0],\n",
        "    [0, 0, 0, 1, 0],\n",
        "    [1, 1, 0, 1, 0],\n",
        "    [0, 0, 0, 0, 0]\n",
        "]\n",
        "\n",
        "start = (0, 0)\n",
        "goals = [(4, 4), (2, 2)]\n",
        "print(best_first_search(maze, start, goals))"
      ]
    },
    {
      "cell_type": "code",
      "source": [
        "import heapq\n",
        "import random\n",
        "import time\n",
        "\n",
        "class DynamicAStar:\n",
        "    def __init__(self, graph, start, goal):\n",
        "        self.graph = graph\n",
        "        self.start = start\n",
        "        self.goal = goal\n",
        "        self.costs = {node: float('inf') for node in graph}\n",
        "        self.costs[start] = 0\n",
        "        self.came_from = {}\n",
        "        self.queue = [(0, start)]\n",
        "\n",
        "    def heuristic(self, a, b):\n",
        "        return abs(a[0] - b[0]) + abs(a[1] - b[1])\n",
        "\n",
        "    def update_costs(self):\n",
        "        for node in self.graph:\n",
        "            for neighbor in self.graph[node]:\n",
        "                self.graph[node][neighbor] = random.randint(1, 10)\n",
        "\n",
        "    def search(self):\n",
        "        while self.queue:\n",
        "            _, current = heapq.heappop(self.queue)\n",
        "            if current == self.goal:\n",
        "                return self.reconstruct_path()\n",
        "\n",
        "            for neighbor, cost in self.graph[current].items():\n",
        "                new_cost = self.costs[current] + cost\n",
        "                if new_cost < self.costs[neighbor]:\n",
        "                    self.costs[neighbor] = new_cost\n",
        "                    priority = new_cost + self.heuristic(neighbor, self.goal)\n",
        "                    heapq.heappush(self.queue, (priority, neighbor))\n",
        "                    self.came_from[neighbor] = current\n",
        "\n",
        "            time.sleep(1)\n",
        "            self.update_costs()\n",
        "\n",
        "        return None\n",
        "\n",
        "    def reconstruct_path(self):\n",
        "        path = []\n",
        "        current = self.goal\n",
        "        while current in self.came_from:\n",
        "            path.append(current)\n",
        "            current = self.came_from[current]\n",
        "        path.append(self.start)\n",
        "        return path[::-1]\n",
        "\n",
        "graph = {\n",
        "    (0, 0): {(0, 1): 1, (1, 0): 2},\n",
        "    (0, 1): {(0, 0): 1, (1, 1): 1},\n",
        "    (1, 0): {(0, 0): 2, (1, 1): 3},\n",
        "    (1, 1): {(0, 1): 1, (1, 0): 3, (2, 2): 4},\n",
        "    (2, 2): {(1, 1): 4}\n",
        "}\n",
        "\n",
        "start = (0, 0)\n",
        "goal = (2, 2)\n",
        "\n",
        "astar = DynamicAStar(graph, start, goal)\n",
        "print(astar.search())\n"
      ],
      "metadata": {
        "colab": {
          "base_uri": "https://localhost:8080/"
        },
        "id": "-vv14073NAVa",
        "outputId": "05e0776c-ada7-4e2d-e249-fa0594aaf843"
      },
      "execution_count": 3,
      "outputs": [
        {
          "output_type": "stream",
          "name": "stdout",
          "text": [
            "[(0, 0), (0, 1), (1, 1), (2, 2)]\n"
          ]
        }
      ]
    },
    {
      "cell_type": "code",
      "source": [
        "import heapq\n",
        "\n",
        "class DeliveryOptimization:\n",
        "    def __init__(self, delivery_points, start):\n",
        "        self.delivery_points = delivery_points  # List(x, y, deadline)\n",
        "        self.start = start\n",
        "\n",
        "    def heuristic(self, a, b):\n",
        "        return abs(a[0] - b[0]) + abs(a[1] - b[1])\n",
        "\n",
        "    def optimize_route(self):\n",
        "        visited = set()\n",
        "        queue = [(deadline, self.heuristic(self.start, point), point) for point, deadline in self.delivery_points]\n",
        "        heapq.heapify(queue)\n",
        "        path = [self.start]\n",
        "\n",
        "        while queue:\n",
        "            _, _, current = heapq.heappop(queue)\n",
        "            if current in visited:\n",
        "                continue\n",
        "            visited.add(current)\n",
        "            path.append(current)\n",
        "\n",
        "        return path\n",
        "\n",
        "#(location, deadline)\n",
        "delivery_points = [((2, 3), 5), ((5, 5), 2), ((1, 1), 8)]\n",
        "start_location = (0, 0)\n",
        "\n",
        "optimizer = DeliveryOptimization(delivery_points, start_location)\n",
        "print(optimizer.optimize_route())\n"
      ],
      "metadata": {
        "colab": {
          "base_uri": "https://localhost:8080/"
        },
        "id": "_s0tbL2JNNLk",
        "outputId": "bd2685de-74d2-4a4c-f890-ff5e9247bdab"
      },
      "execution_count": 4,
      "outputs": [
        {
          "output_type": "stream",
          "name": "stdout",
          "text": [
            "[(0, 0), (5, 5), (2, 3), (1, 1)]\n"
          ]
        }
      ]
    }
  ]
}