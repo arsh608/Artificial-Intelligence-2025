{
  "nbformat": 4,
  "nbformat_minor": 0,
  "metadata": {
    "colab": {
      "provenance": []
    },
    "kernelspec": {
      "name": "python3",
      "display_name": "Python 3"
    },
    "language_info": {
      "name": "python"
    }
  },
  "cells": [
    {
      "cell_type": "code",
      "execution_count": 1,
      "metadata": {
        "colab": {
          "base_uri": "https://localhost:8080/"
        },
        "id": "KvFARBKYMgy0",
        "outputId": "517ff0c9-9730-49f5-858e-61f96db4807c"
      },
      "outputs": [
        {
          "output_type": "stream",
          "name": "stdout",
          "text": [
            "DFS Path: [1, 2, 3]\n",
            "DLS Path: [1, 2, 3]\n",
            "UCS Path: ([1, 3], 15)\n"
          ]
        }
      ],
      "source": [
        "import heapq\n",
        "from itertools import permutations\n",
        "\n",
        "graph_search = {\n",
        "    1: {2: 20, 3: 15, 4: 10},\n",
        "    2: {1: 20, 3: 35, 4: 25},\n",
        "    3: {1: 15, 2: 35, 4: 30},\n",
        "    4: {1: 10, 2: 25, 3: 30}\n",
        "}\n",
        "\n",
        "def dfs(graph, start, goal, visited=None):\n",
        "    if visited is None:\n",
        "        visited = set()\n",
        "    visited.add(start)\n",
        "    if start == goal:\n",
        "        return [start]\n",
        "    for neighbor in graph[start]:\n",
        "        if neighbor not in visited:\n",
        "            path = dfs(graph, neighbor, goal, visited)\n",
        "            if path:\n",
        "                return [start] + path\n",
        "    return None\n",
        "\n",
        "def dls(graph, start, goal, depth, visited=None):\n",
        "    if visited is None:\n",
        "        visited = set()\n",
        "    if depth < 0:\n",
        "        return None\n",
        "    visited.add(start)\n",
        "    if start == goal:\n",
        "        return [start]\n",
        "    for neighbor in graph[start]:\n",
        "        if neighbor not in visited:\n",
        "            path = dls(graph, neighbor, goal, depth - 1, visited)\n",
        "            if path:\n",
        "                return [start] + path\n",
        "    return None\n",
        "\n",
        "def ucs(graph, start, goal):\n",
        "    priority_queue = [(0, start, [])]  # (cost, node, path)\n",
        "    visited = set()\n",
        "    while priority_queue:\n",
        "        cost, node, path = heapq.heappop(priority_queue)\n",
        "        if node in visited:\n",
        "            continue\n",
        "        path = path + [node]\n",
        "        if node == goal:\n",
        "            return path, cost\n",
        "        visited.add(node)\n",
        "        for neighbor, weight in graph[node].items():\n",
        "            if neighbor not in visited:\n",
        "                heapq.heappush(priority_queue, (cost + weight, neighbor, path))\n",
        "    return None\n",
        "\n",
        "print(\"DFS Path:\", dfs(graph_search, 1, 3))\n",
        "print(\"DLS Path:\", dls(graph_search, 1, 3, 2))\n",
        "print(\"UCS Path:\", ucs(graph_search, 1, 3))"
      ]
    },
    {
      "cell_type": "code",
      "source": [
        "graph_tsp = {\n",
        "    1: {2: 20, 3: 15, 4: 10},\n",
        "    2: {1: 20, 3: 35, 4: 25},\n",
        "    3: {1: 15, 2: 35, 4: 30},\n",
        "    4: {1: 10, 2: 25, 3: 30}\n",
        "}\n",
        "\n",
        "def tsp(graph, start):\n",
        "    nodes = list(graph.keys())\n",
        "    nodes.remove(start)\n",
        "    min_cost = float('inf')\n",
        "    best_path = []\n",
        "    for perm in permutations(nodes):\n",
        "        cost = 0\n",
        "        prev = start\n",
        "        for node in perm:\n",
        "            cost += graph[prev][node]\n",
        "            prev = node\n",
        "        cost += graph[prev][start]  # Return to start\n",
        "        if cost < min_cost:\n",
        "            min_cost = cost\n",
        "            best_path = [start] + list(perm) + [start]\n",
        "    return best_path, min_cost\n",
        "\n",
        "print(\"TSP Shortest Path:\", tsp(graph_tsp, 1))"
      ],
      "metadata": {
        "colab": {
          "base_uri": "https://localhost:8080/"
        },
        "id": "kZDc6KMNMxw8",
        "outputId": "0436f901-51d5-4ed2-cbf5-1449cb65e35d"
      },
      "execution_count": 2,
      "outputs": [
        {
          "output_type": "stream",
          "name": "stdout",
          "text": [
            "TSP Shortest Path: ([1, 3, 2, 4, 1], 85)\n"
          ]
        }
      ]
    },
    {
      "cell_type": "code",
      "source": [
        "def iddfs(graph, start, goal, max_depth):\n",
        "    for depth in range(max_depth + 1):\n",
        "        visited = set()\n",
        "        path = dls(graph, start, goal, depth, visited)\n",
        "        if path:\n",
        "            return path\n",
        "    return None\n",
        "\n",
        "def bidirectional_search(graph, start, goal):\n",
        "    if start == goal:\n",
        "        return [start]\n",
        "    frontier_f = {start}\n",
        "    frontier_b = {goal}\n",
        "    parents_f = {start: None}\n",
        "    parents_b = {goal: None}\n",
        "    while frontier_f and frontier_b:\n",
        "        if frontier_f & frontier_b:\n",
        "            intersection = (frontier_f & frontier_b).pop()\n",
        "            path_f = []\n",
        "            path_b = []\n",
        "            node = intersection\n",
        "            while node:\n",
        "                path_f.append(node)\n",
        "                node = parents_f[node]\n",
        "            node = parents_b[intersection]\n",
        "            while node:\n",
        "                path_b.append(node)\n",
        "                node = parents_b[node]\n",
        "            return path_f[::-1] + path_b\n",
        "        new_frontier_f = set()\n",
        "        for node in frontier_f:\n",
        "            for neighbor in graph[node]:\n",
        "                if neighbor not in parents_f:\n",
        "                    parents_f[neighbor] = node\n",
        "                    new_frontier_f.add(neighbor)\n",
        "        frontier_f = new_frontier_f\n",
        "        new_frontier_b = set()\n",
        "        for node in frontier_b:\n",
        "            for neighbor in graph[node]:\n",
        "                if neighbor not in parents_b:\n",
        "                    parents_b[neighbor] = node\n",
        "                    new_frontier_b.add(neighbor)\n",
        "        frontier_b = new_frontier_b\n",
        "    return None\n",
        "\n",
        "print(\"IDDFS Path:\", iddfs(graph_search, 1, 3, 3))\n",
        "print(\"Bidirectional Search Path:\", bidirectional_search(graph_search, 1, 3))\n"
      ],
      "metadata": {
        "colab": {
          "base_uri": "https://localhost:8080/"
        },
        "id": "YPy6yr9mM3u2",
        "outputId": "8dd3b07d-61d4-40e8-ca8d-1d2a14a47c0a"
      },
      "execution_count": 3,
      "outputs": [
        {
          "output_type": "stream",
          "name": "stdout",
          "text": [
            "IDDFS Path: [1, 3]\n",
            "Bidirectional Search Path: [1, 2, 3]\n"
          ]
        }
      ]
    }
  ]
}