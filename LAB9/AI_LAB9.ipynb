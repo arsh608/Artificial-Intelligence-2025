{
  "nbformat": 4,
  "nbformat_minor": 0,
  "metadata": {
    "colab": {
      "provenance": []
    },
    "kernelspec": {
      "name": "python3",
      "display_name": "Python 3"
    },
    "language_info": {
      "name": "python"
    }
  },
  "cells": [
    {
      "cell_type": "code",
      "execution_count": 1,
      "metadata": {
        "colab": {
          "base_uri": "https://localhost:8080/"
        },
        "id": "rrzfqRGd6KfQ",
        "outputId": "3bd95fed-37e0-4f9f-f9b9-3dc7306bbf09"
      },
      "outputs": [
        {
          "output_type": "stream",
          "name": "stdout",
          "text": [
            "missing values in dataset\n",
            "square_footage    0\n",
            "bedrooms          0\n",
            "bathrooms         0\n",
            "age               0\n",
            "neighborhood      0\n",
            "price             0\n",
            "dtype: int64\n",
            "missing values in dataset after cleaning:\n",
            "square_footage          0\n",
            "bedrooms                0\n",
            "bathrooms               0\n",
            "age                     0\n",
            "neighborhood            0\n",
            "price                   0\n",
            "neighborhood_encoded    0\n",
            "dtype: int64\n",
            "MAE: 93634.12\n",
            "MSE: 9958408112.69\n",
            "RMSE: 99791.82\n",
            "R²: 0.36\n",
            "Predicted Price: $ 505364.6477132265\n"
          ]
        }
      ],
      "source": [
        "#@title TASK 1\n",
        "\n",
        "import pandas as pd\n",
        "import numpy as np\n",
        "from sklearn.metrics import mean_absolute_error, mean_squared_error,r2_score\n",
        "from sklearn.model_selection import train_test_split\n",
        "from sklearn.linear_model import LinearRegression\n",
        "from sklearn.preprocessing import LabelEncoder\n",
        "\n",
        "df = pd.read_csv(\"house_data.csv\")\n",
        "print(\"missing values in dataset\")\n",
        "print(df.isnull().sum())\n",
        "\n",
        "numeric_cols = ['square_footage','bedrooms','bathrooms','age']\n",
        "for col in numeric_cols:\n",
        "  df[col] = df[col].fillna(df[col].mean())\n",
        "\n",
        "\n",
        "le = LabelEncoder()\n",
        "df['neighborhood_encoded'] = le.fit_transform(df['neighborhood'])\n",
        "print(\"missing values in dataset after cleaning:\")\n",
        "print(df.isnull().sum())\n",
        "\n",
        "features = ['square_footage', 'bedrooms', 'bathrooms', 'age', 'neighborhood_encoded']\n",
        "target = 'price'\n",
        "\n",
        "X = df[features]\n",
        "Y = df[target]\n",
        "\n",
        "X_train, X_test, Y_train, Y_test= train_test_split(X,Y,test_size=0.2,random_state=42)\n",
        "\n",
        "model = LinearRegression()\n",
        "model.fit(X_train,Y_train)\n",
        "\n",
        "y_pred = model.predict(X_test)\n",
        "\n",
        "mae = mean_absolute_error(Y_test, y_pred)\n",
        "mse = mean_squared_error(Y_test, y_pred)\n",
        "rmse = np.sqrt(mse)\n",
        "r2 = r2_score(Y_test, y_pred)\n",
        "\n",
        "print(f\"MAE: {mae:.2f}\")\n",
        "print(f\"MSE: {mse:.2f}\")\n",
        "print(f\"RMSE: {rmse:.2f}\")\n",
        "print(f\"R²: {r2:.2f}\")\n",
        "\n",
        "new_data = pd.DataFrame([{\n",
        "    'square_footage': 2000,\n",
        "    'bedrooms': 3,\n",
        "    'bathrooms': 2,\n",
        "    'age': 5,\n",
        "    'neighborhood_encoded': le.transform(['Downtown'])[0]\n",
        "}], columns=features)\n",
        "\n",
        "\n",
        "predicted_price = model.predict(new_data)[0]\n",
        "print(\"Predicted Price: $\",predicted_price)"
      ]
    },
    {
      "cell_type": "code",
      "source": [
        "#@title TASK 2\n",
        "\n",
        "import pandas as pd\n",
        "import numpy as np\n",
        "from sklearn.model_selection import train_test_split\n",
        "from sklearn.feature_extraction.text import TfidfVectorizer\n",
        "from sklearn.naive_bayes import MultinomialNB\n",
        "from sklearn.metrics import accuracy_score,confusion_matrix,classification_report\n",
        "\n",
        "df = pd.read_csv(\"emails.csv\")\n",
        "print(df['label'].value_counts())\n",
        "\n",
        "X = df['text']\n",
        "Y = df['label']\n",
        "\n",
        "vectorizer = TfidfVectorizer(stop_words='english',max_df=0.7)\n",
        "X_vect = vectorizer.fit_transform(X)\n",
        "\n",
        "X_train, X_test, y_train, y_test = train_test_split(X_vect, Y, test_size=0.2, random_state=42)\n",
        "\n",
        "model = MultinomialNB()\n",
        "model.fit(X_train,y_train)\n",
        "\n",
        "y_pred = model.predict(X_test)\n",
        "print(\"Accuracy:\", accuracy_score(y_test, y_pred))\n",
        "print(\"\\nClassification Report:\\n\", classification_report(y_test, y_pred))\n",
        "print(\"Confusion Matrix:\\n\", confusion_matrix(y_test, y_pred))\n",
        "\n",
        "new_email = \"Congratulations! You've won a $1000 gift card. Click here to claim.\"\n",
        "email_vect = vectorizer.transform([new_email])\n",
        "prediction = model.predict(email_vect)[0]\n",
        "\n",
        "print(\"\\nSpam\" if prediction == 1 else \"\\nNot Spam\")"
      ],
      "metadata": {
        "colab": {
          "base_uri": "https://localhost:8080/"
        },
        "id": "PEABVp_x6rjw",
        "outputId": "e9b4fc38-dd52-45d1-d93d-105634727454"
      },
      "execution_count": 2,
      "outputs": [
        {
          "output_type": "stream",
          "name": "stdout",
          "text": [
            "label\n",
            "1    5\n",
            "0    5\n",
            "Name: count, dtype: int64\n",
            "Accuracy: 1.0\n",
            "\n",
            "Classification Report:\n",
            "               precision    recall  f1-score   support\n",
            "\n",
            "           0       1.00      1.00      1.00         1\n",
            "           1       1.00      1.00      1.00         1\n",
            "\n",
            "    accuracy                           1.00         2\n",
            "   macro avg       1.00      1.00      1.00         2\n",
            "weighted avg       1.00      1.00      1.00         2\n",
            "\n",
            "Confusion Matrix:\n",
            " [[1 0]\n",
            " [0 1]]\n",
            "\n",
            "Spam\n"
          ]
        }
      ]
    },
    {
      "cell_type": "code",
      "source": [
        "#@title TASK 3\n",
        "\n",
        "import pandas as pd\n",
        "import numpy as np\n",
        "from sklearn.model_selection import train_test_split\n",
        "from sklearn.preprocessing import StandardScaler\n",
        "from sklearn.svm import SVC\n",
        "from sklearn.metrics import accuracy_score, confusion_matrix, classification_report\n",
        "from scipy import stats\n",
        "\n",
        "df = pd.read_csv(\"customer_data.csv\")\n",
        "df.fillna(df.mean(), inplace=True)\n",
        "df = df[(np.abs(stats.zscore(df.select_dtypes(include=['float64', 'int64']))) < 3).all(axis=1)]\n",
        "\n",
        "features = ['total_spending', 'age', 'num_visits', 'purchase_frequency']\n",
        "target = 'customer_value'\n",
        "\n",
        "X = df[features]\n",
        "y = df[target]\n",
        "\n",
        "scaler = StandardScaler()\n",
        "X_scaled = scaler.fit_transform(X)\n",
        "\n",
        "X_train, X_test, y_train, y_test = train_test_split(X_scaled, y, test_size=0.2, random_state=42)\n",
        "\n",
        "model = SVC(kernel='linear')\n",
        "model.fit(X_train, y_train)\n",
        "\n",
        "y_pred = model.predict(X_test)\n",
        "\n",
        "print(\"Accuracy:\", accuracy_score(y_test, y_pred))\n",
        "print(\"\\nClassification Report:\\n\", classification_report(y_test, y_pred))\n",
        "print(\"Confusion Matrix:\\n\", confusion_matrix(y_test, y_pred))\n",
        "\n",
        "new_customer = [4000, 35, 12, 0.7]\n",
        "new_customer_vect = scaler.transform([new_customer])\n",
        "prediction = model.predict(new_customer_vect)[0]\n",
        "\n",
        "print(\"\\nHigh-Value Customer\" if prediction == 1 else \"Low-Value Customer\")\n"
      ],
      "metadata": {
        "colab": {
          "base_uri": "https://localhost:8080/"
        },
        "id": "Km1W0i32657e",
        "outputId": "7a9627f2-3146-4da8-c242-6aca45333ec8"
      },
      "execution_count": 3,
      "outputs": [
        {
          "output_type": "stream",
          "name": "stdout",
          "text": [
            "Accuracy: 1.0\n",
            "\n",
            "Classification Report:\n",
            "               precision    recall  f1-score   support\n",
            "\n",
            "           0       1.00      1.00      1.00         2\n",
            "           1       1.00      1.00      1.00         2\n",
            "\n",
            "    accuracy                           1.00         4\n",
            "   macro avg       1.00      1.00      1.00         4\n",
            "weighted avg       1.00      1.00      1.00         4\n",
            "\n",
            "Confusion Matrix:\n",
            " [[2 0]\n",
            " [0 2]]\n",
            "\n",
            "High-Value Customer\n"
          ]
        },
        {
          "output_type": "stream",
          "name": "stderr",
          "text": [
            "/usr/local/lib/python3.11/dist-packages/sklearn/utils/validation.py:2739: UserWarning: X does not have valid feature names, but StandardScaler was fitted with feature names\n",
            "  warnings.warn(\n"
          ]
        }
      ]
    }
  ]
}